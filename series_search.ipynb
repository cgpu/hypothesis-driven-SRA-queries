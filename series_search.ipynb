{
 "cells": [
  {
   "cell_type": "markdown",
   "metadata": {},
   "source": [
    "# Series Finder  \n",
    "\n",
    "## Find ordered samples based on real-valued variables in the metadata"
   ]
  },
  {
   "cell_type": "markdown",
   "metadata": {},
   "source": [
    "__Import dependencies and load data__"
   ]
  },
  {
   "cell_type": "code",
   "execution_count": 2,
   "metadata": {},
   "outputs": [],
   "source": [
    "import json\n",
    "import pandas as pd\n",
    "from utils import *"
   ]
  },
  {
   "cell_type": "markdown",
   "metadata": {},
   "source": [
    "__1. Do you have a set of samples that you would like to restrict the retrieval to?__ \n",
    "\n",
    "These may be SRA samples that you have preprocessed and/or have access to expressiond data. "
   ]
  },
  {
   "cell_type": "code",
   "execution_count": 3,
   "metadata": {},
   "outputs": [],
   "source": [
    "available_data_f = None  ## <-- INPUT HERE\n",
    "\n",
    "r = load_metadata(available_data_f)\n",
    "sample_to_terms = r[0]\n",
    "term_name_to_id = r[1]\n",
    "sample_to_type = r[2]\n",
    "sample_to_study = r[3]\n",
    "sample_to_runs = r[4]\n",
    "sample_to_real_val = r[5]"
   ]
  },
  {
   "cell_type": "markdown",
   "metadata": {},
   "source": [
    "__2. Enter your query__  \n",
    "\n",
    "Enter your target term in place of `'brain'`, your target property in place of `'age'`, and your target unit in place of `None`.\n",
    "\n",
    "(Note: most samples in the SRA do not have unit information. We advise leaving this as `None` for properties in which the unit is implied (e.g. age is usually expressed in years)."
   ]
  },
  {
   "cell_type": "code",
   "execution_count": 4,
   "metadata": {},
   "outputs": [],
   "source": [
    "term = 'brain' ## <-- INPUT HERE\n",
    "target_property = 'age' ## <-- INPUT HERE\n",
    "target_unit = 'year' ## <-- INPUT HERE"
   ]
  },
  {
   "cell_type": "markdown",
   "metadata": {},
   "source": [
    "__3. List terms below to remove__  \n",
    "\n",
    "In the example below, `'disease', 'disease of cellular proliferation'` will be removed from all timepoints"
   ]
  },
  {
   "cell_type": "code",
   "execution_count": 5,
   "metadata": {},
   "outputs": [],
   "source": [
    "blacklist_terms = set([\n",
    "    'disease', \n",
    "    'disease of cellular proliferation'\n",
    "]) ## <-- INPUT HERE"
   ]
  },
  {
   "cell_type": "markdown",
   "metadata": {},
   "source": [
    "__4. Search for ordered samples__"
   ]
  },
  {
   "cell_type": "code",
   "execution_count": 7,
   "metadata": {},
   "outputs": [
    {
     "ename": "TypeError",
     "evalue": "list indices must be integers or slices, not str",
     "output_type": "error",
     "traceback": [
      "\u001b[0;31m---------------------------------------------------------------------------\u001b[0m",
      "\u001b[0;31mTypeError\u001b[0m                                 Traceback (most recent call last)",
      "\u001b[0;32m<ipython-input-7-81a7756877eb>\u001b[0m in \u001b[0;36m<module>\u001b[0;34m\u001b[0m\n\u001b[1;32m      4\u001b[0m         \u001b[0msample_to_type\u001b[0m\u001b[0;34m,\u001b[0m \u001b[0msample_to_study\u001b[0m\u001b[0;34m,\u001b[0m \u001b[0mterm_name_to_id\u001b[0m\u001b[0;34m,\u001b[0m \u001b[0mblacklist_terms\u001b[0m\u001b[0;34m,\u001b[0m\u001b[0;34m\u001b[0m\u001b[0;34m\u001b[0m\u001b[0m\n\u001b[1;32m      5\u001b[0m         \u001b[0mfilter_poor\u001b[0m\u001b[0;34m=\u001b[0m\u001b[0;32mFalse\u001b[0m\u001b[0;34m,\u001b[0m \u001b[0mfilter_cell_line\u001b[0m\u001b[0;34m=\u001b[0m\u001b[0;32mTrue\u001b[0m\u001b[0;34m,\u001b[0m \u001b[0mfilter_differentiated\u001b[0m\u001b[0;34m=\u001b[0m\u001b[0;32mTrue\u001b[0m\u001b[0;34m,\u001b[0m\u001b[0;34m\u001b[0m\u001b[0;34m\u001b[0m\u001b[0m\n\u001b[0;32m----> 6\u001b[0;31m         value_limit=100, target_unit=None)\n\u001b[0m\u001b[1;32m      7\u001b[0m \u001b[0mcreate_series_plots\u001b[0m\u001b[0;34m(\u001b[0m\u001b[0mval_to_samples\u001b[0m\u001b[0;34m,\u001b[0m \u001b[0mtarget_property\u001b[0m\u001b[0;34m)\u001b[0m\u001b[0;34m\u001b[0m\u001b[0;34m\u001b[0m\u001b[0m\n\u001b[1;32m      8\u001b[0m \u001b[0;32mif\u001b[0m \u001b[0mSAVE_FIGURE\u001b[0m \u001b[0;32mis\u001b[0m \u001b[0;32mnot\u001b[0m \u001b[0;32mNone\u001b[0m\u001b[0;34m:\u001b[0m\u001b[0;34m\u001b[0m\u001b[0;34m\u001b[0m\u001b[0m\n",
      "\u001b[0;32m~/work/utils.py\u001b[0m in \u001b[0;36mseries\u001b[0;34m(term, target_property, sample_to_real_val, sample_to_terms, sample_to_type, sample_to_study, term_name_to_id, blacklist_terms, filter_poor, filter_cell_line, filter_differentiated, target_unit, value_limit, skip_missing_unit)\u001b[0m\n\u001b[1;32m     90\u001b[0m             \u001b[0;32mcontinue\u001b[0m\u001b[0;34m\u001b[0m\u001b[0;34m\u001b[0m\u001b[0m\n\u001b[1;32m     91\u001b[0m         \u001b[0;32mfor\u001b[0m \u001b[0mreal_val_info\u001b[0m \u001b[0;32min\u001b[0m \u001b[0mreal_val_infos\u001b[0m\u001b[0;34m:\u001b[0m\u001b[0;34m\u001b[0m\u001b[0;34m\u001b[0m\u001b[0m\n\u001b[0;32m---> 92\u001b[0;31m             \u001b[0mproperty_\u001b[0m \u001b[0;34m=\u001b[0m \u001b[0mreal_val_info\u001b[0m\u001b[0;34m[\u001b[0m\u001b[0;34m'property'\u001b[0m\u001b[0;34m]\u001b[0m\u001b[0;34m\u001b[0m\u001b[0;34m\u001b[0m\u001b[0m\n\u001b[0m\u001b[1;32m     93\u001b[0m             \u001b[0munit\u001b[0m \u001b[0;34m=\u001b[0m \u001b[0mreal_val_info\u001b[0m\u001b[0;34m[\u001b[0m\u001b[0;34m'unit'\u001b[0m\u001b[0;34m]\u001b[0m\u001b[0;34m\u001b[0m\u001b[0;34m\u001b[0m\u001b[0m\n\u001b[1;32m     94\u001b[0m             \u001b[0mvalue\u001b[0m \u001b[0;34m=\u001b[0m \u001b[0mint\u001b[0m\u001b[0;34m(\u001b[0m\u001b[0mreal_val_info\u001b[0m\u001b[0;34m[\u001b[0m\u001b[0;34m'value'\u001b[0m\u001b[0;34m]\u001b[0m\u001b[0;34m)\u001b[0m\u001b[0;34m\u001b[0m\u001b[0;34m\u001b[0m\u001b[0m\n",
      "\u001b[0;31mTypeError\u001b[0m: list indices must be integers or slices, not str"
     ]
    }
   ],
   "source": [
    "SAVE_FIGURE = 'brain_series.png' ## <-- INPUT\n",
    "\n",
    "val_to_samples, primary_df = series(term, target_property, sample_to_real_val, sample_to_terms,             \n",
    "        sample_to_type, sample_to_study, term_name_to_id, blacklist_terms, \n",
    "        filter_poor=False, filter_cell_line=True, filter_differentiated=True,\n",
    "        value_limit=100, target_unit=None)\n",
    "create_series_plots(val_to_samples, target_property)\n",
    "if SAVE_FIGURE is not None:\n",
    "    plt.savefig(SAVE_FIGURE, format='png', dpi=150)\n",
    "plt.show()"
   ]
  },
  {
   "cell_type": "markdown",
   "metadata": {},
   "source": [
    "__5. Browse other metadata terms that are associated with samples in a given time point__\n",
    "\n",
    "Enter whether you want to view cases or controls. Assign the following variable to the number corresponding to the timepoint you would like to view:"
   ]
  },
  {
   "cell_type": "code",
   "execution_count": 11,
   "metadata": {},
   "outputs": [
    {
     "name": "stdout",
     "output_type": "stream",
     "text": [
      "Displaying data for 15 sample with age=38\n"
     ]
    }
   ],
   "source": [
    "view_value = 38 ## <-- INPUT HERE\n",
    "\n",
    "if view_value in val_to_samples:\n",
    "    samples = list(val_to_samples[view_value])\n",
    "    with open('./data/term-in.json', 'w') as f:\n",
    "        json.dump(samples, f)\n",
    "    print(\"Displaying data for %d sample with %s=%d\" % (len(samples), target_property, view_value))\n",
    "else:\n",
    "    print(\"Value {} was not found in the longitudinal query. Please try another query.\".format(view_value))"
   ]
  },
  {
   "cell_type": "markdown",
   "metadata": {},
   "source": [
    "The following plots the proportion of metadata terms for those terms that appear in at least 10% of the samples in the current subset:"
   ]
  },
  {
   "cell_type": "markdown",
   "metadata": {},
   "source": [
    "__6. Produce output file__. \n",
    "\n",
    "Enter the filename for which you would like to output these samples:"
   ]
  },
  {
   "cell_type": "code",
   "execution_count": 15,
   "metadata": {},
   "outputs": [],
   "source": [
    "SAVE_FILE = 'series_data.tsv' ## <- OUTPUT FILE HERE\n",
    "\n",
    "primary_df.to_csv(SAVE_FILE, sep='\\t')"
   ]
  }
 ],
 "metadata": {
  "kernelspec": {
   "display_name": "Python 3",
   "language": "python",
   "name": "python3"
  },
  "language_info": {
   "codemirror_mode": {
    "name": "ipython",
    "version": 3
   },
   "file_extension": ".py",
   "mimetype": "text/x-python",
   "name": "python",
   "nbconvert_exporter": "python",
   "pygments_lexer": "ipython3",
   "version": "3.6.7"
  }
 },
 "nbformat": 4,
 "nbformat_minor": 2
}
