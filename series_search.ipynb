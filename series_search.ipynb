{
 "cells": [
  {
   "cell_type": "markdown",
   "metadata": {},
   "source": [
    "# Series Finder  \n",
    "\n",
    "## Find ordered samples based on real-valued variables in the metadata"
   ]
  },
  {
   "cell_type": "markdown",
   "metadata": {},
   "source": [
    "__Import dependencies and load data__"
   ]
  },
  {
   "cell_type": "code",
   "execution_count": 1,
   "metadata": {},
   "outputs": [],
   "source": [
    "%load_ext rpy2.ipython"
   ]
  },
  {
   "cell_type": "code",
   "execution_count": 2,
   "metadata": {},
   "outputs": [
    {
     "name": "stdout",
     "output_type": "stream",
     "text": [
      "x86_64-conda_cos6-linux-gnu-c++  -I\"/opt/conda/lib/R/include\" -DNDEBUG   -DNDEBUG -D_FORTIFY_SOURCE=2 -O2 -I/opt/conda/include -Wl,-rpath-link,/opt/conda/lib   -fpic  -fvisibility-inlines-hidden  -fmessage-length=0 -march=nocona -mtune=haswell -ftree-vectorize -fPIC -fstack-protector-strong -fno-plt -O2 -pipe -I/opt/conda/include -fdebug-prefix-map==/usr/local/src/conda/- -fdebug-prefix-map==/usr/local/src/conda-prefix  -c dump.cpp -o dump.o\n",
      "x86_64-conda_cos6-linux-gnu-cc -I\"/opt/conda/lib/R/include\" -DNDEBUG   -DNDEBUG -D_FORTIFY_SOURCE=2 -O2 -I/opt/conda/include -Wl,-rpath-link,/opt/conda/lib   -fpic  -march=nocona -mtune=haswell -ftree-vectorize -fPIC -fstack-protector-strong -fno-plt -O2 -pipe -I/opt/conda/include -fdebug-prefix-map==/usr/local/src/conda/- -fdebug-prefix-map==/usr/local/src/conda-prefix  -c parser.c -o parser.o\n",
      "x86_64-conda_cos6-linux-gnu-cc -I\"/opt/conda/lib/R/include\" -DNDEBUG   -DNDEBUG -D_FORTIFY_SOURCE=2 -O2 -I/opt/conda/include -Wl,-rpath-link,/opt/conda/lib   -fpic  -march=nocona -mtune=haswell -ftree-vectorize -fPIC -fstack-protector-strong -fno-plt -O2 -pipe -I/opt/conda/include -fdebug-prefix-map==/usr/local/src/conda/- -fdebug-prefix-map==/usr/local/src/conda-prefix  -c register.c -o register.o\n",
      "x86_64-conda_cos6-linux-gnu-c++ -shared -L/opt/conda/lib/R/lib -Wl,-O2 -Wl,--sort-common -Wl,--as-needed -Wl,-z,relro -Wl,-z,now -Wl,--disable-new-dtags -Wl,-rpath,/opt/conda/lib -L/opt/conda/lib -Wl,-rpath-link,/opt/conda/lib -o rjson.so dump.o parser.o register.o -L/opt/conda/lib/R/lib -lR\n"
     ]
    },
    {
     "name": "stderr",
     "output_type": "stream",
     "text": [
      "--2019-05-24 18:31:09--  https://cran.r-project.org/src/contrib/rjson_0.2.20.tar.gz\n",
      "Resolving cran.r-project.org (cran.r-project.org)... 137.208.57.37\n",
      "Connecting to cran.r-project.org (cran.r-project.org)|137.208.57.37|:443... connected.\n",
      "HTTP request sent, awaiting response... 200 OK\n",
      "Length: 99600 (97K) [application/x-gzip]\n",
      "Saving to: ‘rjson_0.2.20.tar.gz.118’\n",
      "\n",
      "     0K .......... .......... .......... .......... .......... 51%  182K 0s\n",
      "    50K .......... .......... .......... .......... .......   100% 11.4M=0.3s\n",
      "\n",
      "2019-05-24 18:31:10 (349 KB/s) - ‘rjson_0.2.20.tar.gz.118’ saved [99600/99600]\n",
      "\n",
      "* installing to library ‘/opt/conda/lib/R/library’\n",
      "* installing *source* package ‘rjson’ ...\n",
      "** package ‘rjson’ successfully unpacked and MD5 sums checked\n",
      "** libs\n",
      "installing to /opt/conda/lib/R/library/rjson/libs\n",
      "** R\n",
      "** inst\n",
      "** byte-compile and prepare package for lazy loading\n",
      "** help\n",
      "*** installing help indices\n",
      "** building package indices\n",
      "** installing vignettes\n",
      "** testing if installed package can be loaded\n",
      "* DONE (rjson)\n"
     ]
    }
   ],
   "source": [
    "%%bash\n",
    "wget https://cran.r-project.org/src/contrib/rjson_0.2.20.tar.gz\n",
    "R CMD INSTALL rjson_0.2.20.tar.gz"
   ]
  },
  {
   "cell_type": "code",
   "execution_count": 3,
   "metadata": {},
   "outputs": [],
   "source": [
    "%%R\n",
    "library(rjson)"
   ]
  },
  {
   "cell_type": "code",
   "execution_count": 4,
   "metadata": {},
   "outputs": [],
   "source": [
    "%%R\n",
    "metadata_file_tsv <- read.table(file = \"./data/experiment_to_terms.tsv\", header = FALSE, sep = \"\\t\")"
   ]
  },
  {
   "cell_type": "code",
   "execution_count": 5,
   "metadata": {},
   "outputs": [],
   "source": [
    "import json\n",
    "import pandas as pd\n",
    "from functions import *"
   ]
  },
  {
   "cell_type": "markdown",
   "metadata": {},
   "source": [
    "__1. Do you have a set of samples that you would like to restrict the retrieval to?__ \n",
    "\n",
    "These may be SRA samples that you have preprocessed and/or have access to expressiond data. If so, point `available_data_f` to a JSON file containing a list of SRA experiment accessions. See `./data/experiments_in_hackathon_data.json` for an example."
   ]
  },
  {
   "cell_type": "code",
   "execution_count": 6,
   "metadata": {},
   "outputs": [],
   "source": [
    "available_data_f = None  ## <-- INPUT HERE\n",
    "\n",
    "r = load_metadata(available_data_f)\n",
    "sample_to_terms = r[0]\n",
    "term_name_to_id = r[1]\n",
    "sample_to_type = r[2]\n",
    "sample_to_study = r[3]\n",
    "sample_to_runs = r[4]\n",
    "sample_to_real_val = r[5]"
   ]
  },
  {
   "cell_type": "markdown",
   "metadata": {},
   "source": [
    "__2. Enter your query__  \n",
    "\n",
    "Enter your target term in place of `'brain'`, your target property in place of `'age'`, and your target unit in place of `None`.\n",
    "\n",
    "(Note: most samples in the SRA do not have unit information. We advise leaving this as `None` for properties in which the unit is implied (e.g. age is usually expressed in years)."
   ]
  },
  {
   "cell_type": "code",
   "execution_count": 7,
   "metadata": {},
   "outputs": [],
   "source": [
    "term = 'brain' ## <-- INPUT HERE\n",
    "target_property = 'age' ## <-- INPUT HERE\n",
    "target_unit = 'year' ## <-- INPUT HERE"
   ]
  },
  {
   "cell_type": "markdown",
   "metadata": {},
   "source": [
    "__3. List terms below to remove__  \n",
    "\n",
    "In the example below, `'disease', 'disease of cellular proliferation'` will be removed from all timepoints"
   ]
  },
  {
   "cell_type": "code",
   "execution_count": 8,
   "metadata": {},
   "outputs": [],
   "source": [
    "blacklist_terms = set([\n",
    "    'disease', \n",
    "    'disease of cellular proliferation'\n",
    "]) ## <-- INPUT HERE"
   ]
  },
  {
   "cell_type": "markdown",
   "metadata": {},
   "source": [
    "__4. Search for ordered samples__"
   ]
  },
  {
   "cell_type": "code",
   "execution_count": 9,
   "metadata": {},
   "outputs": [],
   "source": [
    "val_to_samples, primary_df = series(term, target_property, sample_to_real_val, sample_to_terms,             \n",
    "        sample_to_type, sample_to_study, term_name_to_id, blacklist_terms, \n",
    "        filter_poor=False, filter_cell_line=True, filter_differentiated=True,\n",
    "        value_limit=100, target_unit=None)"
   ]
  },
  {
   "cell_type": "markdown",
   "metadata": {},
   "source": [
    "These are time points that were found:"
   ]
  },
  {
   "cell_type": "code",
   "execution_count": 10,
   "metadata": {},
   "outputs": [
    {
     "data": {
      "image/png": "[encoded data removed]",
      "text/plain": [
       "<Figure size 1339.2x360 with 1 Axes>"
      ]
     },
     "metadata": {
      "needs_background": "light"
     },
     "output_type": "display_data"
    }
   ],
   "source": [
    "create_series_plots(val_to_samples, target_property)\n",
    "plt.savefig('series.png', format='png', dpi=200)\n",
    "#plt.show()"
   ]
  },
  {
   "cell_type": "markdown",
   "metadata": {},
   "source": [
    "__5. Browse other metadata terms that are associated with samples in a given time point__\n",
    "\n",
    "Enter whether you want to view cases or controls. Assign the following variable to the number corresponding to the timepoint you would like to view:"
   ]
  },
  {
   "cell_type": "code",
   "execution_count": 11,
   "metadata": {},
   "outputs": [
    {
     "name": "stdout",
     "output_type": "stream",
     "text": [
      "Displaying data for 15 sample with age=38\n"
     ]
    }
   ],
   "source": [
    "view_value = 38 ## <-- INPUT HERE\n",
    "\n",
    "if view_value in val_to_samples:\n",
    "    samples = list(val_to_samples[view_value])\n",
    "with open('./data/term-in.json', 'w') as f:\n",
    "    json.dump(samples, f)\n",
    "print(\"Displaying data for %d sample with %s=%d\" % (len(samples), target_property, view_value))"
   ]
  },
  {
   "cell_type": "markdown",
   "metadata": {},
   "source": [
    "The following plots the proportion of metadata terms for those terms that appear in at least 10% of the samples in the current subset:"
   ]
  },
  {
   "cell_type": "code",
   "execution_count": 12,
   "metadata": {},
   "outputs": [
    {
     "data": {
      "image/png": "[encoded data removed]"
     },
     "metadata": {},
     "output_type": "display_data"
    }
   ],
   "source": [
    "%%R\n",
    "source(\"./Metadata_plot.R\")\n",
    "bp"
   ]
  },
  {
   "cell_type": "code",
   "execution_count": 13,
   "metadata": {},
   "outputs": [],
   "source": [
    "%%R\n",
    "source(\"./Metadata_table.R\")"
   ]
  },
  {
   "cell_type": "code",
   "execution_count": 14,
   "metadata": {},
   "outputs": [
    {
     "data": {
      "image/png": "[encoded data removed]"
     },
     "metadata": {},
     "output_type": "display_data"
    }
   ],
   "source": [
    "%%R\n",
    "source(\"./Metadata_piecharts.R\")"
   ]
  },
  {
   "cell_type": "markdown",
   "metadata": {},
   "source": [
    "__6. Produce output file__. \n",
    "\n",
    "Enter the filename for which you would like to output these samples:"
   ]
  },
  {
   "cell_type": "code",
   "execution_count": 15,
   "metadata": {},
   "outputs": [],
   "source": [
    "output_file = 'series_data.csv' ## <- OUTPUT FILE HERE\n",
    "\n",
    "primary_df.to_csv(output_file)"
   ]
  }
 ],
 "metadata": {
  "kernelspec": {
   "display_name": "Python 3",
   "language": "python",
   "name": "python3"
  },
  "language_info": {
   "codemirror_mode": {
    "name": "ipython",
    "version": 3
   },
   "file_extension": ".py",
   "mimetype": "text/x-python",
   "name": "python",
   "nbconvert_exporter": "python",
   "pygments_lexer": "ipython3",
   "version": "3.6.7"
  }
 },
 "nbformat": 4,
 "nbformat_minor": 2
}
