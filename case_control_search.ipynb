{
 "cells": [
  {
   "cell_type": "markdown",
   "metadata": {},
   "source": [
    "# Case-Control Finder  \n",
    "## Finds cases and controls for a given condition within the Sequence Read Archive"
   ]
  },
  {
   "cell_type": "markdown",
   "metadata": {},
   "source": [
    "__Import dependencies and load data__"
   ]
  },
  {
   "cell_type": "code",
   "execution_count": 1,
   "metadata": {},
   "outputs": [],
   "source": [
    "%load_ext rpy2.ipython"
   ]
  },
  {
   "cell_type": "code",
   "execution_count": 2,
   "metadata": {},
   "outputs": [
    {
     "name": "stdout",
     "output_type": "stream",
     "text": [
      "x86_64-conda_cos6-linux-gnu-c++  -I\"/opt/conda/lib/R/include\" -DNDEBUG   -DNDEBUG -D_FORTIFY_SOURCE=2 -O2 -I/opt/conda/include -Wl,-rpath-link,/opt/conda/lib   -fpic  -fvisibility-inlines-hidden  -fmessage-length=0 -march=nocona -mtune=haswell -ftree-vectorize -fPIC -fstack-protector-strong -fno-plt -O2 -pipe -I/opt/conda/include -fdebug-prefix-map==/usr/local/src/conda/- -fdebug-prefix-map==/usr/local/src/conda-prefix  -c dump.cpp -o dump.o\n",
      "x86_64-conda_cos6-linux-gnu-cc -I\"/opt/conda/lib/R/include\" -DNDEBUG   -DNDEBUG -D_FORTIFY_SOURCE=2 -O2 -I/opt/conda/include -Wl,-rpath-link,/opt/conda/lib   -fpic  -march=nocona -mtune=haswell -ftree-vectorize -fPIC -fstack-protector-strong -fno-plt -O2 -pipe -I/opt/conda/include -fdebug-prefix-map==/usr/local/src/conda/- -fdebug-prefix-map==/usr/local/src/conda-prefix  -c parser.c -o parser.o\n",
      "x86_64-conda_cos6-linux-gnu-cc -I\"/opt/conda/lib/R/include\" -DNDEBUG   -DNDEBUG -D_FORTIFY_SOURCE=2 -O2 -I/opt/conda/include -Wl,-rpath-link,/opt/conda/lib   -fpic  -march=nocona -mtune=haswell -ftree-vectorize -fPIC -fstack-protector-strong -fno-plt -O2 -pipe -I/opt/conda/include -fdebug-prefix-map==/usr/local/src/conda/- -fdebug-prefix-map==/usr/local/src/conda-prefix  -c register.c -o register.o\n",
      "x86_64-conda_cos6-linux-gnu-c++ -shared -L/opt/conda/lib/R/lib -Wl,-O2 -Wl,--sort-common -Wl,--as-needed -Wl,-z,relro -Wl,-z,now -Wl,--disable-new-dtags -Wl,-rpath,/opt/conda/lib -L/opt/conda/lib -Wl,-rpath-link,/opt/conda/lib -o rjson.so dump.o parser.o register.o -L/opt/conda/lib/R/lib -lR\n"
     ]
    },
    {
     "name": "stderr",
     "output_type": "stream",
     "text": [
      "--2019-09-30 19:36:50--  https://cran.r-project.org/src/contrib/rjson_0.2.20.tar.gz\n",
      "Resolving cran.r-project.org (cran.r-project.org)... 137.208.57.37\n",
      "Connecting to cran.r-project.org (cran.r-project.org)|137.208.57.37|:443... connected.\n",
      "HTTP request sent, awaiting response... 200 OK\n",
      "Length: 99600 (97K) [application/x-gzip]\n",
      "Saving to: ‘rjson_0.2.20.tar.gz.119’\n",
      "\n",
      "     0K .......... .......... .......... .......... .......... 51%  201K 0s\n",
      "    50K .......... .......... .......... .......... .......   100%  381K=0.4s\n",
      "\n",
      "2019-09-30 19:36:51 (261 KB/s) - ‘rjson_0.2.20.tar.gz.119’ saved [99600/99600]\n",
      "\n",
      "* installing to library ‘/opt/conda/lib/R/library’\n",
      "* installing *source* package ‘rjson’ ...\n",
      "** package ‘rjson’ successfully unpacked and MD5 sums checked\n",
      "** libs\n",
      "installing to /opt/conda/lib/R/library/rjson/libs\n",
      "** R\n",
      "** inst\n",
      "** byte-compile and prepare package for lazy loading\n",
      "** help\n",
      "*** installing help indices\n",
      "** building package indices\n",
      "** installing vignettes\n",
      "** testing if installed package can be loaded\n",
      "* DONE (rjson)\n"
     ]
    }
   ],
   "source": [
    "%%bash\n",
    "wget https://cran.r-project.org/src/contrib/rjson_0.2.20.tar.gz\n",
    "R CMD INSTALL rjson_0.2.20.tar.gz"
   ]
  },
  {
   "cell_type": "code",
   "execution_count": 3,
   "metadata": {},
   "outputs": [],
   "source": [
    "%%R\n",
    "library(rjson)"
   ]
  },
  {
   "cell_type": "code",
   "execution_count": 4,
   "metadata": {},
   "outputs": [],
   "source": [
    "import json\n",
    "import pandas as pd\n",
    "from functions import *\n",
    "import matplotlib\n",
    "from matplotlib import pyplot as plt\n",
    "import seaborn as sns"
   ]
  },
  {
   "cell_type": "code",
   "execution_count": 5,
   "metadata": {},
   "outputs": [],
   "source": [
    "%%R\n",
    "metadata_file_tsv <- read.table(file = \"./data/experiment_to_terms.tsv\", header = FALSE, sep = \"\\t\")"
   ]
  },
  {
   "cell_type": "code",
   "execution_count": 6,
   "metadata": {},
   "outputs": [
    {
     "name": "stdout",
     "output_type": "stream",
     "text": [
      "\n",
      "Error in R.version() : could not find function \"R.version\"\n"
     ]
    },
    {
     "name": "stderr",
     "output_type": "stream",
     "text": [
      "/opt/conda/lib/python3.6/site-packages/rpy2/rinterface/__init__.py:146: RRuntimeWarning: Error in R.version() : could not find function \"R.version\"\n",
      "\n",
      "  warnings.warn(x, RRuntimeWarning)\n"
     ]
    }
   ],
   "source": [
    "%%R\n",
    "R.Version()"
   ]
  },
  {
   "cell_type": "markdown",
   "metadata": {},
   "source": [
    "__1. Do you have a set of samples that you would like to restrict the retrieval to?__ \n",
    "\n",
    "These may be SRA samples that you have preprocessed and/or have access to expressiond data. If so, point `available_data_f` to a JSON file containing a list of SRA experiment accessions. See `./data/experiments_in_hackathon_data.json` for an example."
   ]
  },
  {
   "cell_type": "code",
   "execution_count": 7,
   "metadata": {},
   "outputs": [],
   "source": [
    "available_data_f = None  ## <-- INPUT HERE\n",
    "\n",
    "r = load_metadata(available_data_f)\n",
    "sample_to_terms = r[0]\n",
    "term_name_to_id = r[1]\n",
    "sample_to_type = r[2]\n",
    "sample_to_study = r[3]\n",
    "sample_to_runs = r[4]"
   ]
  },
  {
   "cell_type": "markdown",
   "metadata": {},
   "source": [
    "__2. Enter the term you are looking for (in place of `'glioblastoma multiforme'`)__"
   ]
  },
  {
   "cell_type": "code",
   "execution_count": 8,
   "metadata": {},
   "outputs": [],
   "source": [
    "term = 'glioblastoma multiforme' ## <-- INPUT HERE"
   ]
  },
  {
   "cell_type": "markdown",
   "metadata": {},
   "source": [
    "__3. List terms to remove from control set__ \n",
    "\n",
    "In the example below, `'disease'` and `'disease of cellular proliferation'` will be removed from the controls.  "
   ]
  },
  {
   "cell_type": "code",
   "execution_count": 9,
   "metadata": {},
   "outputs": [],
   "source": [
    "blacklist_terms = set([\n",
    "    'disease', \n",
    "    'disease of cellular proliferation'\n",
    "]) ## <-- INPUT HERE"
   ]
  },
  {
   "cell_type": "markdown",
   "metadata": {},
   "source": [
    "__4. Create case and controls__"
   ]
  },
  {
   "cell_type": "code",
   "execution_count": 10,
   "metadata": {},
   "outputs": [
    {
     "data": {
      "image/png": "[encoded data removed]",
      "text/plain": [
       "<Figure size 583.2x495.692 with 2 Axes>"
      ]
     },
     "metadata": {
      "needs_background": "light"
     },
     "output_type": "display_data"
    }
   ],
   "source": [
    "case, control = term_to_run(sample_to_terms, term)\n",
    "ret = match_case_to_controls(term, control, case, sample_to_terms,\n",
    "    sample_to_study, blacklist_terms, term_name_to_id, sample_to_type,\n",
    "    filter_poor=True, filter_cell_line=True, filter_differentiated=True,\n",
    "    sample_to_runs=sample_to_runs, by_run=False)\n",
    "df = ret[0]\n",
    "control_confound = ret[1]\n",
    "case_confound = ret[2]\n",
    "tissue_intersections = ret[3]\n",
    "\n",
    "create_summary_plots(df)\n",
    "plt.show()"
   ]
  },
  {
   "cell_type": "markdown",
   "metadata": {},
   "source": [
    "__5. Browse other metadata terms that are associated with cases and controls.__ \n",
    "\n",
    "Enter whether you want to view cases or controls. Assign the following variable to `True` to view cases or `False` to view controls."
   ]
  },
  {
   "cell_type": "code",
   "execution_count": 11,
   "metadata": {},
   "outputs": [],
   "source": [
    "view_cases = False ## <-- INPUT HERE"
   ]
  },
  {
   "cell_type": "markdown",
   "metadata": {},
   "source": [
    "Enter the tissue or cell type on which to subset your samples:"
   ]
  },
  {
   "cell_type": "code",
   "execution_count": 12,
   "metadata": {},
   "outputs": [],
   "source": [
    "term = 'brain' ## <-- INPUT HERE\n",
    "\n",
    "if view_cases:\n",
    "    condition = 'case'\n",
    "else:\n",
    "    condition = 'control'\n",
    "view_exps = select_case_control_experiment_set(df, condition, term)\n",
    "with open('./data/term-in.json', 'w') as f:\n",
    "    json.dump(view_exps, f)"
   ]
  },
  {
   "cell_type": "markdown",
   "metadata": {},
   "source": [
    "The following plots the proportion of metadata terms for those terms that appear in at least 10% of the samples in the current subset:"
   ]
  },
  {
   "cell_type": "code",
   "execution_count": 13,
   "metadata": {},
   "outputs": [
    {
     "data": {
      "image/png": "[encoded data removed]"
     },
     "metadata": {},
     "output_type": "display_data"
    }
   ],
   "source": [
    "%%R\n",
    "source(\"./Metadata_plot.R\")\n",
    "bp"
   ]
  },
  {
   "cell_type": "code",
   "execution_count": 14,
   "metadata": {},
   "outputs": [
    {
     "data": {
      "text/plain": [
       "         Metadata Sample Number Proportion\n",
       "1           brain           710  1.0000000\n",
       "2   male organism           196  0.2760563\n",
       "3 female organism            85  0.1197183\n"
      ]
     },
     "metadata": {},
     "output_type": "display_data"
    }
   ],
   "source": [
    "%%R\n",
    "source(\"./Metadata_table.R\")\n",
    "query_disease_metadata_top10_table"
   ]
  },
  {
   "cell_type": "code",
   "execution_count": 15,
   "metadata": {},
   "outputs": [
    {
     "data": {
      "text/plain": [
       "         Var1 Freq  Metadata Proportion\n",
       "632 cell line    0 cell line          0\n"
      ]
     },
     "metadata": {},
     "output_type": "display_data"
    },
    {
     "data": {
      "image/png": "[encoded data removed]"
     },
     "metadata": {},
     "output_type": "display_data"
    }
   ],
   "source": [
    "%%R\n",
    "source(\"./Metadata_piecharts.R\")\n",
    "query_cell_line"
   ]
  },
  {
   "cell_type": "markdown",
   "metadata": {},
   "source": [
    "__5. Create output file__\n",
    "\n",
    "Enter the filename for which you would like to output these cases or controls:"
   ]
  },
  {
   "cell_type": "code",
   "execution_count": 16,
   "metadata": {},
   "outputs": [],
   "source": [
    "output_file = 'cases_vs_controls.csv' ## <- OUTPUT FILE HERE\n",
    "\n",
    "df.to_csv(output_file)"
   ]
  }
 ],
 "metadata": {
  "kernelspec": {
   "display_name": "Python 3",
   "language": "python",
   "name": "python3"
  },
  "language_info": {
   "codemirror_mode": {
    "name": "ipython",
    "version": 3
   },
   "file_extension": ".py",
   "mimetype": "text/x-python",
   "name": "python",
   "nbconvert_exporter": "python",
   "pygments_lexer": "ipython3",
   "version": "3.6.7"
  }
 },
 "nbformat": 4,
 "nbformat_minor": 2
}
